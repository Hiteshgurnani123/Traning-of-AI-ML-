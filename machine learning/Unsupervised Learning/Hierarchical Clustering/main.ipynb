{
 "cells": [
  {
   "cell_type": "markdown",
   "id": "bb31c533",
   "metadata": {},
   "source": [
    "# Hierarchical Clustering"
   ]
  },
  {
   "cell_type": "code",
   "execution_count": 71,
   "id": "bcfde1c8",
   "metadata": {},
   "outputs": [],
   "source": [
    "import numpy as np\n",
    "import pandas as pd\n",
    "import matplotlib.pyplot as plt\n",
    "import seaborn as sns"
   ]
  },
  {
   "cell_type": "code",
   "execution_count": 72,
   "id": "1a280fd8",
   "metadata": {},
   "outputs": [],
   "source": [
    "from sklearn.cluster import AgglomerativeClustering\n",
    "from scipy.cluster.hierarchy import dendrogram , linkage\n",
    "from sklearn.datasets import make_blobs\n",
    "from sklearn.cluster import KMeans"
   ]
  },
  {
   "cell_type": "code",
   "execution_count": 73,
   "id": "d4835d53",
   "metadata": {},
   "outputs": [],
   "source": [
    "x , _  = make_blobs(n_samples = 100, centers = 3, cluster_std = 1.0)\n"
   ]
  },
  {
   "cell_type": "code",
   "execution_count": 74,
   "id": "0f6913e4",
   "metadata": {},
   "outputs": [],
   "source": [
    "model = AgglomerativeClustering(n_clusters = 3, linkage = 'ward')\n",
    "labels  = model.fit_predict(x)"
   ]
  },
  {
   "cell_type": "code",
   "execution_count": 75,
   "id": "ebd941cd",
   "metadata": {},
   "outputs": [
    {
     "data": {
      "image/png": "[encoded data removed]",
      "text/plain": [
       "<Figure size 1000x700 with 1 Axes>"
      ]
     },
     "metadata": {},
     "output_type": "display_data"
    }
   ],
   "source": [
    "linkage = linkage(x, method = 'ward')\n",
    "plt.figure(figsize = (10, 7))\n",
    "dendrogram(linkage)\n",
    "plt.xticks(rotation = 90)\n",
    "plt.show()"
   ]
  },
  {
   "cell_type": "code",
   "execution_count": 76,
   "id": "472b321b",
   "metadata": {},
   "outputs": [
    {
     "data": {
      "text/plain": [
       "array([[10.61049822, -6.13147553],\n",
       "       [-3.50677688, -1.86129577],\n",
       "       [-4.49680149, -1.30611351],\n",
       "       [-2.77023252, -1.54843871],\n",
       "       [ 4.33599813,  2.16150709],\n",
       "       [ 5.64064549, -0.45783565],\n",
       "       [-2.95541581,  0.13106436],\n",
       "       [10.14168872, -4.44898428],\n",
       "       [ 5.53010392, -0.13917545],\n",
       "       [-1.73104714,  0.50583145],\n",
       "       [-0.34444201, -1.46970255],\n",
       "       [ 5.72865828,  3.00928718],\n",
       "       [-4.43418183, -0.67323372],\n",
       "       [ 3.66585888, -0.56395116],\n",
       "       [ 9.75387467, -5.87687797],\n",
       "       [ 8.97506371, -6.29410075],\n",
       "       [ 4.61751034,  0.50188422],\n",
       "       [-2.88892575, -0.17077929],\n",
       "       [ 9.68698502, -4.4701868 ],\n",
       "       [ 9.23178927, -6.83227682],\n",
       "       [-2.12696558,  1.03333847],\n",
       "       [ 6.79318305,  0.94551889],\n",
       "       [ 9.77716945, -6.38360872],\n",
       "       [ 4.91017227, -0.40797707],\n",
       "       [-2.3137191 ,  0.02630565],\n",
       "       [ 8.25375843, -1.20522929],\n",
       "       [ 5.17635534,  1.57383284],\n",
       "       [ 6.41439744, -5.65278929],\n",
       "       [ 9.55052152, -5.30592731],\n",
       "       [ 8.77507679, -5.02948267],\n",
       "       [ 9.71557777, -5.25977651],\n",
       "       [-1.88723972, -0.37291627],\n",
       "       [ 9.5185786 , -7.04818294],\n",
       "       [ 5.28423609, -0.28943759],\n",
       "       [-3.34495257,  0.69005332],\n",
       "       [10.75181148, -4.15648687],\n",
       "       [ 9.5849651 , -4.30899547],\n",
       "       [ 9.25369165, -4.48429899],\n",
       "       [ 8.73334986, -4.29375369],\n",
       "       [ 4.74374591, -0.16615034],\n",
       "       [ 4.63027663,  0.43313356],\n",
       "       [ 4.31976712,  0.29690748],\n",
       "       [ 5.07372052,  1.65216156],\n",
       "       [-3.53081101,  0.06426931],\n",
       "       [-5.12304337, -1.31429603],\n",
       "       [-4.50967176, -0.35096355],\n",
       "       [10.25810719, -4.37099163],\n",
       "       [-3.25488423,  1.06331911],\n",
       "       [ 6.16947851, -0.13074556],\n",
       "       [ 4.09903982, -0.1415529 ],\n",
       "       [-2.78715041,  2.4197478 ],\n",
       "       [-5.65861255,  0.5237908 ],\n",
       "       [-3.114127  ,  1.35583786],\n",
       "       [ 2.62453299,  0.07492358],\n",
       "       [-3.55352299,  0.32687019],\n",
       "       [10.00963859, -4.55329802],\n",
       "       [-2.06993675, -0.28145531],\n",
       "       [-1.68689469, -0.86783606],\n",
       "       [ 9.93660464, -3.58625937],\n",
       "       [ 8.6012911 , -6.53013861],\n",
       "       [ 6.22817825, -0.31932992],\n",
       "       [-1.22493157,  1.08426776],\n",
       "       [10.85891232, -5.7642748 ],\n",
       "       [ 4.31819784, -0.09401331],\n",
       "       [-3.67928643, -0.95553325],\n",
       "       [-3.00261675, -1.84785687],\n",
       "       [ 9.04271015, -3.60719205],\n",
       "       [ 4.4802693 , -0.61271709],\n",
       "       [ 4.67235403, -1.25608095],\n",
       "       [-3.36150199, -0.62462932],\n",
       "       [ 5.94567542, -0.15005436],\n",
       "       [-2.97085122, -0.81311715],\n",
       "       [-3.03138174,  0.40317169],\n",
       "       [-3.33798208,  1.34033863],\n",
       "       [ 5.99762801,  0.13741393],\n",
       "       [ 3.50871022,  1.81457832],\n",
       "       [ 4.32040985,  1.86343086],\n",
       "       [ 8.31671285, -5.59607881],\n",
       "       [ 4.51069347,  3.40690191],\n",
       "       [ 4.48901633, -0.94274254],\n",
       "       [ 9.52040729, -3.15424576],\n",
       "       [ 9.55103879, -3.89767898],\n",
       "       [ 4.92373206,  1.74318074],\n",
       "       [-1.93351087,  0.51035618],\n",
       "       [ 8.80232216, -5.3707601 ],\n",
       "       [10.92348506, -6.58487096],\n",
       "       [ 9.25674176, -5.66904496],\n",
       "       [-2.19383173, -0.63408667],\n",
       "       [-3.28137525, -0.65277585],\n",
       "       [-3.62160859,  1.1119502 ],\n",
       "       [ 9.54287085, -5.85382689],\n",
       "       [ 5.89709757,  0.50108822],\n",
       "       [ 9.74373523, -2.61650009],\n",
       "       [ 3.32541991,  1.68398711],\n",
       "       [10.72301428, -6.19402601],\n",
       "       [ 4.2509943 ,  0.76751015],\n",
       "       [11.04472269, -3.68493045],\n",
       "       [ 5.03434818,  0.04960471],\n",
       "       [ 2.34718038,  0.19323662],\n",
       "       [ 9.83494815, -5.46838054]])"
      ]
     },
     "execution_count": 76,
     "metadata": {},
     "output_type": "execute_result"
    }
   ],
   "source": [
    "x"
   ]
  },
  {
   "cell_type": "markdown",
   "id": "70d6871c",
   "metadata": {},
   "source": [
    "# Divisive"
   ]
  },
  {
   "cell_type": "code",
   "execution_count": 77,
   "id": "d15a4827",
   "metadata": {},
   "outputs": [],
   "source": [
    "x , _ = make_blobs(n_samples=100, centers=1, cluster_std= 2, random_state=42)\n"
   ]
  },
  {
   "cell_type": "code",
   "execution_count": 78,
   "id": "de0d781f",
   "metadata": {},
   "outputs": [],
   "source": [
    "def divisive_clustering(data , max_cluster = 4):\n",
    "    clusters = [data]\n",
    "    labels = np.zeros(len(data), dtype = int)\n",
    "    while len(clusters) < max_cluster:\n",
    "        idx_to_split = np.argmax([len(c) for c in clusters])      # argmax return the index value of the large element in the array\n",
    "\n",
    "        cluster_to_split = clusters.pop(idx_to_split)\n",
    "        # get a new label to assign to the newly format cluster \n",
    "        current_lable = np.max(labels) + 1\n",
    "        # KMean to split the cluster\n",
    "        kmeans = KMeans(n_clusters = 2, random_state = 42)\n",
    "        split_labels = kmeans.fit_predict(cluster_to_split)\n",
    "\n",
    "        cluster1 = cluster_to_split[split_labels == 0]\n",
    "        cluster2 = cluster_to_split[split_labels == 1]  \n",
    "        clusters.append(cluster1)\n",
    "        clusters.append(cluster2)\n",
    "        # update label assignments\n",
    "        labels_indices = np.where([np.any(np.all(x == cluster_to_split,axis=1))for x in data])[0]     \n",
    "\n",
    "        labels_subset = split_labels\n",
    "        labels[labels_indices] = current_label\n",
    "        labels[labels_indices[labels_subset == 0]] = current_label \n",
    "        labels[labels_indices[labels_subset == 1]] = current_label + 1\n",
    "    return labels\n",
    "\n",
    "\n"
   ]
  },
  {
   "cell_type": "code",
   "execution_count": null,
   "id": "39de62ab",
   "metadata": {},
   "outputs": [
    {
     "ename": "NameError",
     "evalue": "name 'current_label' is not defined",
     "output_type": "error",
     "traceback": [
      "\u001b[31m---------------------------------------------------------------------------\u001b[39m",
      "\u001b[31mNameError\u001b[39m                                 Traceback (most recent call last)",
      "\u001b[36mCell\u001b[39m\u001b[36m \u001b[39m\u001b[32mIn[79]\u001b[39m\u001b[32m, line 1\u001b[39m\n\u001b[32m----> \u001b[39m\u001b[32m1\u001b[39m current_label = \u001b[43mdivisive_clustering\u001b[49m\u001b[43m(\u001b[49m\u001b[43mx\u001b[49m\u001b[43m,\u001b[49m\u001b[43m \u001b[49m\u001b[43mmax_cluster\u001b[49m\u001b[43m=\u001b[49m\u001b[32;43m4\u001b[39;49m\u001b[43m)\u001b[49m\n",
      "\u001b[36mCell\u001b[39m\u001b[36m \u001b[39m\u001b[32mIn[78]\u001b[39m\u001b[32m, line 22\u001b[39m, in \u001b[36mdivisive_clustering\u001b[39m\u001b[34m(data, max_cluster)\u001b[39m\n\u001b[32m     19\u001b[39m labels_indices = np.where([np.any(np.all(x == cluster_to_split,axis=\u001b[32m1\u001b[39m))\u001b[38;5;28;01mfor\u001b[39;00m x \u001b[38;5;129;01min\u001b[39;00m data])[\u001b[32m0\u001b[39m]     \n\u001b[32m     21\u001b[39m labels_subset = split_labels\n\u001b[32m---> \u001b[39m\u001b[32m22\u001b[39m labels[labels_indices] = \u001b[43mcurrent_label\u001b[49m\n\u001b[32m     23\u001b[39m labels[labels_indices[labels_subset == \u001b[32m0\u001b[39m]] = current_label \n\u001b[32m     24\u001b[39m labels[labels_indices[labels_subset == \u001b[32m1\u001b[39m]] = current_label + \u001b[32m1\u001b[39m\n",
      "\u001b[31mNameError\u001b[39m: name 'current_label' is not defined"
     ]
    }
   ],
   "source": [
    "cluster_label = divisive_clustering(x, max_cluster=4)"
   ]
  },
  {
   "cell_type": "code",
   "execution_count": null,
   "id": "d6d6342a",
   "metadata": {},
   "outputs": [],
   "source": []
  }
 ],
 "metadata": {
  "kernelspec": {
   "display_name": "Python 3",
   "language": "python",
   "name": "python3"
  },
  "language_info": {
   "codemirror_mode": {
    "name": "ipython",
    "version": 3
   },
   "file_extension": ".py",
   "mimetype": "text/x-python",
   "name": "python",
   "nbconvert_exporter": "python",
   "pygments_lexer": "ipython3",
   "version": "3.11.9"
  }
 },
 "nbformat": 4,
 "nbformat_minor": 5
}
