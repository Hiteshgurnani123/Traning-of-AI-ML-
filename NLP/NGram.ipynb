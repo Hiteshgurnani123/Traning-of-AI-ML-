{
 "cells": [
  {
   "cell_type": "code",
   "execution_count": 1,
   "id": "d94af56d",
   "metadata": {},
   "outputs": [],
   "source": [
    "from sklearn.feature_extraction.text import CountVectorizer"
   ]
  },
  {
   "cell_type": "code",
   "execution_count": 2,
   "id": "7aa4ca92",
   "metadata": {},
   "outputs": [],
   "source": [
    "text = ['this was not good to watch with family']"
   ]
  },
  {
   "cell_type": "code",
   "execution_count": 6,
   "id": "982ff20f",
   "metadata": {},
   "outputs": [
    {
     "name": "stdout",
     "output_type": "stream",
     "text": [
      "[[1 1 1 1 1 1 1 1 1 1 1 1 1 1 1 1 1 1 1 1 1]]\n",
      "['family' 'good' 'good to' 'good to watch' 'not' 'not good' 'not good to'\n",
      " 'this' 'this was' 'this was not' 'to' 'to watch' 'to watch with' 'was'\n",
      " 'was not' 'was not good' 'watch' 'watch with' 'watch with family' 'with'\n",
      " 'with family']\n",
      "{'this': 7, 'was': 13, 'not': 4, 'good': 1, 'to': 10, 'watch': 16, 'with': 19, 'family': 0, 'this was': 8, 'was not': 14, 'not good': 5, 'good to': 2, 'to watch': 11, 'watch with': 17, 'with family': 20, 'this was not': 9, 'was not good': 15, 'not good to': 6, 'good to watch': 3, 'to watch with': 12, 'watch with family': 18}\n"
     ]
    }
   ],
   "source": [
    "cv = CountVectorizer(ngram_range= (1,3))\n",
    "print(cv.fit_transform(text).toarray())\n",
    "print(cv.get_feature_names_out())\n",
    "print(cv.vocabulary_)"
   ]
  },
  {
   "cell_type": "code",
   "execution_count": null,
   "id": "df94f277",
   "metadata": {},
   "outputs": [],
   "source": []
  }
 ],
 "metadata": {
  "kernelspec": {
   "display_name": "Python 3",
   "language": "python",
   "name": "python3"
  },
  "language_info": {
   "codemirror_mode": {
    "name": "ipython",
    "version": 3
   },
   "file_extension": ".py",
   "mimetype": "text/x-python",
   "name": "python",
   "nbconvert_exporter": "python",
   "pygments_lexer": "ipython3",
   "version": "3.11.9"
  }
 },
 "nbformat": 4,
 "nbformat_minor": 5
}
