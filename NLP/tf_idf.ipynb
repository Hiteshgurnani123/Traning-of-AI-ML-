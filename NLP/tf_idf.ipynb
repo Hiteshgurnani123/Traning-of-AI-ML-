{
 "cells": [
  {
   "cell_type": "code",
   "execution_count": 2,
   "id": "1caef17b",
   "metadata": {},
   "outputs": [],
   "source": [
    "## tf --> ( Term Frequency)   ,,   idf -->  (Inverse Document Frequency)"
   ]
  },
  {
   "cell_type": "code",
   "execution_count": 3,
   "id": "c3f25597",
   "metadata": {},
   "outputs": [],
   "source": [
    "from sklearn.feature_extraction.text import TfidfVectorizer\n",
    "counterizer = TfidfVectorizer()"
   ]
  },
  {
   "cell_type": "code",
   "execution_count": 5,
   "id": "a5920dd6",
   "metadata": {},
   "outputs": [
    {
     "name": "stdout",
     "output_type": "stream",
     "text": [
      "[[0.66761776 0.         0.         0.         0.42983971 0.42983971\n",
      "  0.         0.         0.         0.42983971 0.         0.        ]\n",
      " [0.28321692 0.         0.47952794 0.47952794 0.         0.\n",
      "  0.47952794 0.         0.47952794 0.         0.         0.        ]\n",
      " [0.2394472  0.40541935 0.         0.         0.30833187 0.30833187\n",
      "  0.         0.40541935 0.         0.30833187 0.40541935 0.40541935]]\n",
      "{'this': 9, 'boy': 0, 'is': 5, 'good': 4, 'eat': 2, 'lot': 6, 'pf': 8, 'food': 3, 'very': 10, 'with': 11, 'otjer': 7, 'boys': 1}\n",
      "['boy' 'boys' 'eat' 'food' 'good' 'is' 'lot' 'otjer' 'pf' 'this' 'very'\n",
      " 'with']\n"
     ]
    }
   ],
   "source": [
    "text = ['this boy is a good boy', 'boy eat lot pf food', 'this boy is very good with otjer boys']\n",
    "\n",
    "print(counterizer.fit_transform(text).toarray())\n",
    "print(counterizer.vocabulary_)\n",
    "print(counterizer.get_feature_names_out())"
   ]
  },
  {
   "cell_type": "code",
   "execution_count": null,
   "id": "d537ab2c",
   "metadata": {},
   "outputs": [],
   "source": [
    "from gensim.models import Word2Vec"
   ]
  },
  {
   "cell_type": "code",
   "execution_count": null,
   "id": "94b644ec",
   "metadata": {},
   "outputs": [
    {
     "name": "stdout",
     "output_type": "stream",
     "text": [
      "[==============================================----] 93.1% 1548.7/1662.8MB downloaded"
     ]
    }
   ],
   "source": [
    "import gensim.downloader as api\n",
    "# Download Google's pre-trained Word2Vec model\n",
    "word2vec_model = api.load(\"word2vec-google-news-300\")"
   ]
  },
  {
   "cell_type": "code",
   "execution_count": null,
   "id": "197845f3",
   "metadata": {},
   "outputs": [],
   "source": []
  }
 ],
 "metadata": {
  "kernelspec": {
   "display_name": "Python 3",
   "language": "python",
   "name": "python3"
  },
  "language_info": {
   "codemirror_mode": {
    "name": "ipython",
    "version": 3
   },
   "file_extension": ".py",
   "mimetype": "text/x-python",
   "name": "python",
   "nbconvert_exporter": "python",
   "pygments_lexer": "ipython3",
   "version": "3.11.9"
  }
 },
 "nbformat": 4,
 "nbformat_minor": 5
}
