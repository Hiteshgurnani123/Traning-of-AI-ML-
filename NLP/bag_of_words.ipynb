{
 "cells": [
  {
   "cell_type": "code",
   "execution_count": 1,
   "id": "d4467652",
   "metadata": {},
   "outputs": [],
   "source": [
    "from sklearn.feature_extraction.text import CountVectorizer"
   ]
  },
  {
   "cell_type": "code",
   "execution_count": 4,
   "id": "b514dc7c",
   "metadata": {},
   "outputs": [],
   "source": [
    "text = ['python is a programming language',\n",
    "        'python is use for data science',\n",
    "        'machine learning is a subset of ai',\n",
    "        'deep learning is s subset of ml',\n",
    "        'we are currently learning nlt']"
   ]
  },
  {
   "cell_type": "code",
   "execution_count": 6,
   "id": "8bff80ea",
   "metadata": {},
   "outputs": [
    {
     "name": "stdout",
     "output_type": "stream",
     "text": [
      "['ai' 'are' 'currently' 'data' 'deep' 'for' 'is' 'language' 'learning'\n",
      " 'machine' 'ml' 'nlt' 'of' 'programming' 'python' 'science' 'subset' 'use'\n",
      " 'we']\n",
      "[[0 0 0 0 0 0 1 1 0 0 0 0 0 1 1 0 0 0 0]\n",
      " [0 0 0 1 0 1 1 0 0 0 0 0 0 0 1 1 0 1 0]\n",
      " [1 0 0 0 0 0 1 0 1 1 0 0 1 0 0 0 1 0 0]\n",
      " [0 0 0 0 1 0 1 0 1 0 1 0 1 0 0 0 1 0 0]\n",
      " [0 1 1 0 0 0 0 0 1 0 0 1 0 0 0 0 0 0 1]]\n"
     ]
    }
   ],
   "source": [
    "vec = CountVectorizer()\n",
    "x = vec.fit_transform(text)\n",
    "# to see the dictionary and bag of words\n",
    "#print(vec.vocabulary)\n",
    "\n",
    "print(vec.get_feature_names_out())\n",
    "print(x.toarray())"
   ]
  },
  {
   "cell_type": "code",
   "execution_count": null,
   "id": "6b26c2b8",
   "metadata": {},
   "outputs": [],
   "source": []
  }
 ],
 "metadata": {
  "kernelspec": {
   "display_name": "Python 3",
   "language": "python",
   "name": "python3"
  },
  "language_info": {
   "codemirror_mode": {
    "name": "ipython",
    "version": 3
   },
   "file_extension": ".py",
   "mimetype": "text/x-python",
   "name": "python",
   "nbconvert_exporter": "python",
   "pygments_lexer": "ipython3",
   "version": "3.11.9"
  }
 },
 "nbformat": 4,
 "nbformat_minor": 5
}
