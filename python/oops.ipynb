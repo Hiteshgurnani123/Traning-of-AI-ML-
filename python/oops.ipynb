{
 "cells": [
  {
   "cell_type": "markdown",
   "id": "393f9f8a",
   "metadata": {},
   "source": [
    "# OOPs"
   ]
  },
  {
   "cell_type": "code",
   "execution_count": 2,
   "id": "5cd80d65",
   "metadata": {},
   "outputs": [
    {
     "data": {
      "text/plain": [
       "('Buggati', 'Veyron')"
      ]
     },
     "execution_count": 2,
     "metadata": {},
     "output_type": "execute_result"
    }
   ],
   "source": [
    "class car:\n",
    "    name = \"Buggati\",\n",
    "    model = \"Veyron\",\n",
    "    year = 2015\n",
    "\n",
    "    def add(self):\n",
    "        return self.num1 + self.num2\n",
    "    def display(self):\n",
    "        return self.name + self.model\n",
    "\n",
    "# Object Creation\n",
    "c1 = car()\n",
    "c1.display()\n"
   ]
  },
  {
   "cell_type": "code",
   "execution_count": 5,
   "id": "72ac954c",
   "metadata": {},
   "outputs": [
    {
     "name": "stdout",
     "output_type": "stream",
     "text": [
      "('Kunal', 19)\n"
     ]
    }
   ],
   "source": [
    "class animal:\n",
    "    def __init__(self, name , age):\n",
    "        self.name = name\n",
    "        self.age = age\n",
    "\n",
    "    def display(self):\n",
    "        return self.name, self.age\n",
    "    \n",
    "dog = animal(\"Kunal\", 19)\n",
    "print(dog.display())"
   ]
  },
  {
   "cell_type": "code",
   "execution_count": null,
   "id": "0041b4da",
   "metadata": {},
   "outputs": [],
   "source": []
  }
 ],
 "metadata": {
  "kernelspec": {
   "display_name": "Python 3",
   "language": "python",
   "name": "python3"
  },
  "language_info": {
   "codemirror_mode": {
    "name": "ipython",
    "version": 3
   },
   "file_extension": ".py",
   "mimetype": "text/x-python",
   "name": "python",
   "nbconvert_exporter": "python",
   "pygments_lexer": "ipython3",
   "version": "3.11.9"
  }
 },
 "nbformat": 4,
 "nbformat_minor": 5
}
