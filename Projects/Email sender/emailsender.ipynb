{
 "cells": [
  {
   "cell_type": "markdown",
   "id": "70c832c9",
   "metadata": {},
   "source": [
    "# Project"
   ]
  },
  {
   "cell_type": "code",
   "execution_count": null,
   "id": "8e5110d7",
   "metadata": {},
   "outputs": [],
   "source": [
    "import smtplib\n",
    "\n",
    "try:\n",
    "    # Connect to the Gmail SMTP server\n",
    "    server = smtplib.SMTP(\"smtp.gmail.com\", port=587)\n",
    "    server.starttls()  # Start TLS encryption\n",
    "\n",
    "    # Receiver email\n",
    "    receiver_mail = input(\"Enter the receiver email: \")\n",
    "\n",
    "    # Sender credentials\n",
    "    sender_mail = 'hiteshgurnani101@gmail.com'  # Corrected email\n",
    "    password = \"iwkd fpsy vcps smkl\"  # App password (not regular password)\n",
    "\n",
    "    # Login to the server\n",
    "    server.login(sender_mail, password)\n",
    "\n",
    "    # Mail content\n",
    "    subject = input(\"Enter the subject of the mail: \")\n",
    "    body = input(\"Enter the body of the mail: \")\n",
    "    message = f'Subject: {subject}\\n\\n{body}'\n",
    "\n",
    "    # Send the email\n",
    "    server.sendmail(sender_mail, receiver_mail, message)\n",
    "    print(\"Mail sent successfully.\")\n",
    "\n",
    "    server.quit()  # Close the server connection\n",
    "\n",
    "except Exception as e:\n",
    "    print(f\"An error occurred: {e}\")"
   ]
  },
  {
   "cell_type": "code",
   "execution_count": null,
   "id": "286c1d83",
   "metadata": {},
   "outputs": [],
   "source": []
  }
 ],
 "metadata": {
  "kernelspec": {
   "display_name": "Python 3",
   "language": "python",
   "name": "python3"
  },
  "language_info": {
   "codemirror_mode": {
    "name": "ipython",
    "version": 3
   },
   "file_extension": ".py",
   "mimetype": "text/x-python",
   "name": "python",
   "nbconvert_exporter": "python",
   "pygments_lexer": "ipython3",
   "version": "3.11.9"
  }
 },
 "nbformat": 4,
 "nbformat_minor": 5
}
