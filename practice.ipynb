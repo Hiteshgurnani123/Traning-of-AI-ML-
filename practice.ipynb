{
 "cells": [
  {
   "cell_type": "markdown",
   "id": "1e5f83b5",
   "metadata": {},
   "source": [
    "# List"
   ]
  },
  {
   "cell_type": "code",
   "execution_count": 1,
   "id": "7874d3a4",
   "metadata": {},
   "outputs": [
    {
     "name": "stdout",
     "output_type": "stream",
     "text": [
      "hello world\n"
     ]
    }
   ],
   "source": [
    "print('hello world')"
   ]
  },
  {
   "cell_type": "code",
   "execution_count": 2,
   "id": "26c44006",
   "metadata": {},
   "outputs": [
    {
     "name": "stdout",
     "output_type": "stream",
     "text": [
      "[1, 2, 'hello', 3.14, 'Hits']\n",
      "<class 'list'>\n",
      "<class 'int'>\n",
      "hello\n",
      "[1, 2, 'hello']\n",
      "[1, 2, 'Hii', 3.14, 'Hits']\n",
      "[3, 'hello', 3.11, 3.14, 'Hits']\n"
     ]
    }
   ],
   "source": [
    "list = [1,2,'hello',3.14,'Hits']\n",
    "print(list)\n",
    "print(type(list))\n",
    "print(type(list[1]))\n",
    "print(list[2])\n",
    "print(list[0:3])\n",
    "list[2] = 'Hii'\n",
    "print(list)\n",
    "list[0:3] = [3,'hello', 3.11]\n",
    "print(list)"
   ]
  },
  {
   "cell_type": "code",
   "execution_count": 3,
   "id": "f910787e",
   "metadata": {},
   "outputs": [
    {
     "data": {
      "text/plain": [
       "[8, 'hello', 3.11, 3.14, 'Hits']"
      ]
     },
     "execution_count": 3,
     "metadata": {},
     "output_type": "execute_result"
    }
   ],
   "source": [
    "list[0:1] = [8]\n",
    "list"
   ]
  },
  {
   "cell_type": "code",
   "execution_count": 4,
   "id": "2bdaa68d",
   "metadata": {},
   "outputs": [
    {
     "data": {
      "text/plain": [
       "[8, 8, 9, 'hello', 3.11, 3.14, 'Hits']"
      ]
     },
     "execution_count": 4,
     "metadata": {},
     "output_type": "execute_result"
    }
   ],
   "source": [
    "list[0:1] = [8,8,9]\n",
    "list"
   ]
  },
  {
   "cell_type": "code",
   "execution_count": 5,
   "id": "d16067f6",
   "metadata": {},
   "outputs": [
    {
     "data": {
      "text/plain": [
       "[10, 20, [30, 40, [50, 6000], 70], 80]"
      ]
     },
     "execution_count": 5,
     "metadata": {},
     "output_type": "execute_result"
    }
   ],
   "source": [
    "list1 = [10,20,[30,40,[50,60],70],80]\n",
    "list1[2][2][1]= 6000\n",
    "list1"
   ]
  },
  {
   "cell_type": "code",
   "execution_count": 6,
   "id": "c2106508",
   "metadata": {},
   "outputs": [
    {
     "data": {
      "text/plain": [
       "['red', 'red', 'blue', 'green', 'red']"
      ]
     },
     "execution_count": 6,
     "metadata": {},
     "output_type": "execute_result"
    }
   ],
   "source": [
    "list2 = ['red', 'green', 'blue','red','red']\n",
    "# list2.count('red')\n",
    "# list2.index('green')\n",
    "\n",
    "# list2.insert(2, 'yellow')\n",
    "# list2\n",
    "# list2.extend(['purple', 'orange'])\n",
    "# list2\n",
    "# list2.remove('red')\n",
    "# list2\n",
    "# list2.pop(3)\n",
    "# list2\n",
    "# list2.sort(reverse=True)\n",
    "# list2\n",
    "list2[::-1]\n"
   ]
  },
  {
   "cell_type": "markdown",
   "id": "c719a946",
   "metadata": {},
   "source": [
    "# Tuples"
   ]
  },
  {
   "cell_type": "code",
   "execution_count": 7,
   "id": "2144912c",
   "metadata": {},
   "outputs": [
    {
     "data": {
      "text/plain": [
       "2"
      ]
     },
     "execution_count": 7,
     "metadata": {},
     "output_type": "execute_result"
    }
   ],
   "source": [
    "tuple = ('apple', 'banana', 'mango', 'orange')\n",
    "type(tuple)\n",
    "tuple\n",
    "tuple.count('banana')\n",
    "tuple.index('mango')"
   ]
  },
  {
   "cell_type": "markdown",
   "id": "86024c88",
   "metadata": {},
   "source": [
    "# Sets"
   ]
  },
  {
   "cell_type": "code",
   "execution_count": 8,
   "id": "3ab01f6c",
   "metadata": {},
   "outputs": [
    {
     "data": {
      "text/plain": [
       "{2, 'hello', 'world'}"
      ]
     },
     "execution_count": 8,
     "metadata": {},
     "output_type": "execute_result"
    }
   ],
   "source": [
    "set = {1,2,'hello',True,'hello'}\n",
    "type(set)\n",
    "set\n",
    "set.add('world')\n",
    "set.pop()\n",
    "set"
   ]
  },
  {
   "cell_type": "code",
   "execution_count": 9,
   "id": "02ed74db",
   "metadata": {},
   "outputs": [
    {
     "data": {
      "text/plain": [
       "{1, 2, 3, 6, 7, 8}"
      ]
     },
     "execution_count": 9,
     "metadata": {},
     "output_type": "execute_result"
    }
   ],
   "source": [
    "set1 = {1,2,3,4,5}\n",
    "set2 = {4,5,6,7,8}\n",
    "\n",
    "set3 = set1 & set2\n",
    "set3\n",
    "\n",
    "set4 = set1 | set2\n",
    "set4\n",
    "set5 = set1 - set2\n",
    "set5\n",
    "set6 = set2 - set1\n",
    "set6\n",
    "set7 = set1 ^ set2\n",
    "set7\n"
   ]
  },
  {
   "cell_type": "code",
   "execution_count": 10,
   "id": "93a88c8c",
   "metadata": {},
   "outputs": [
    {
     "data": {
      "text/plain": [
       "{1, 2, 3, 6, 7, 8}"
      ]
     },
     "execution_count": 10,
     "metadata": {},
     "output_type": "execute_result"
    }
   ],
   "source": [
    "a = {1,2,3,4,5}\n",
    "b= {4,5,6,7,8}\n",
    "\n",
    "# a.intersection_update(b)\n",
    "# a\n",
    "\n",
    "# a.difference_update(b)\n",
    "# a\n",
    "a.symmetric_difference_update(b)\n",
    "a\n",
    "\n"
   ]
  },
  {
   "cell_type": "markdown",
   "id": "b95dae4d",
   "metadata": {},
   "source": [
    "# Dictionary"
   ]
  },
  {
   "cell_type": "code",
   "execution_count": 11,
   "id": "b3249f87",
   "metadata": {},
   "outputs": [
    {
     "name": "stdout",
     "output_type": "stream",
     "text": [
      "<class 'dict'>\n"
     ]
    },
    {
     "data": {
      "text/plain": [
       "{'name': 'Hitesh', 'age': 20, 'Cource': 'AI'}"
      ]
     },
     "execution_count": 11,
     "metadata": {},
     "output_type": "execute_result"
    }
   ],
   "source": [
    "student = {\n",
    "    \"name\" : \"Alice\",\n",
    "    \"age\" : 20,\n",
    "    \"Cource\" : \"AI\"\n",
    "}\n",
    "\n",
    "print(type(student))\n",
    "student[\"city\"] = \"Jaipur\"\n",
    "student\n",
    "student.get(\"name\")\n",
    "student.update({\"name\": \"Hitesh\"})\n",
    "student\n",
    "student.pop(\"city\")\n",
    "student\n"
   ]
  },
  {
   "cell_type": "code",
   "execution_count": 12,
   "id": "613b159a",
   "metadata": {},
   "outputs": [
    {
     "data": {
      "text/plain": [
       "{'a': 3, 'b': 2}"
      ]
     },
     "execution_count": 12,
     "metadata": {},
     "output_type": "execute_result"
    }
   ],
   "source": [
    "dt = {\"a\" : 3}\n",
    "value = dt.setdefault(\"b\" ,2 )\n",
    "dt"
   ]
  },
  {
   "cell_type": "code",
   "execution_count": 13,
   "id": "13578df5",
   "metadata": {},
   "outputs": [
    {
     "data": {
      "text/plain": [
       "{'a': 3, 'b': 4}"
      ]
     },
     "execution_count": 13,
     "metadata": {},
     "output_type": "execute_result"
    }
   ],
   "source": [
    "dt1 = {\"a\" : 3, \"b\" : 4}\n",
    "value = dt.setdefault(\"b\" ,2 )\n",
    "dt1"
   ]
  },
  {
   "cell_type": "markdown",
   "id": "b0b46592",
   "metadata": {},
   "source": [
    "#  Conditional Statement"
   ]
  },
  {
   "cell_type": "code",
   "execution_count": 14,
   "id": "13da9dd2",
   "metadata": {},
   "outputs": [
    {
     "name": "stdout",
     "output_type": "stream",
     "text": [
      "a is greater than b\n"
     ]
    }
   ],
   "source": [
    "a = 10\n",
    "b = 5\n",
    "\n",
    "if a<b:\n",
    "    print(\"a is less than b\")\n",
    "elif a==b:\n",
    "    print(\"a is equal to b\")\n",
    "else:\n",
    "    print(\"a is greater than b\")"
   ]
  },
  {
   "cell_type": "code",
   "execution_count": 19,
   "id": "845bc12d",
   "metadata": {},
   "outputs": [
    {
     "name": "stdout",
     "output_type": "stream",
     "text": [
      "a is divisible by 5\n"
     ]
    }
   ],
   "source": [
    "a = int(input(\"Enter a number: \"))\n",
    "\n",
    "if a%5 == 0 and a%7 == 0:\n",
    "    print(\"a is divisible by both 5 and 7\")\n",
    "elif a%5 == 0:\n",
    "    print(\"a is divisible by 5\")\n",
    "elif a%7 == 0:\n",
    "    print(\"a is divisible by 7\")    \n",
    "else:\n",
    "    print(\"a is not divisible by either 5 or 7\")"
   ]
  },
  {
   "cell_type": "code",
   "execution_count": null,
   "id": "87a81387",
   "metadata": {},
   "outputs": [
    {
     "name": "stdout",
     "output_type": "stream",
     "text": [
      "b is a leap year\n"
     ]
    }
   ],
   "source": [
    "b = int(input(\"Enter a number: \"))\n",
    "\n",
    "if b%4 == 0 and b%100 != 0 or b%400 == 0:\n",
    "    print(\"b is a leap year\")\n",
    "else:\n",
    "    print(\"b is not a leap year\")"
   ]
  },
  {
   "cell_type": "markdown",
   "id": "21748b2b",
   "metadata": {},
   "source": [
    "# Loop"
   ]
  },
  {
   "cell_type": "markdown",
   "id": "56a0d644",
   "metadata": {},
   "source": [
    "### Loop - itereting in a sequence"
   ]
  },
  {
   "cell_type": "code",
   "execution_count": null,
   "id": "d422a46e",
   "metadata": {},
   "outputs": [
    {
     "name": "stdout",
     "output_type": "stream",
     "text": [
      "red green blue black "
     ]
    }
   ],
   "source": [
    "lst = ['red', 'green', 'blue', 'black']\n",
    "\n",
    "for i in lst:\n",
    "    print(i, end = ' ')"
   ]
  },
  {
   "cell_type": "code",
   "execution_count": null,
   "id": "68a269c1",
   "metadata": {},
   "outputs": [
    {
     "name": "stdout",
     "output_type": "stream",
     "text": [
      "name : Alice  age : 25  city : New York  "
     ]
    }
   ],
   "source": [
    "dict = {'name': 'Alice', 'age': 25, 'city': 'New York'}\n",
    "\n",
    "for i in dict:\n",
    "    print(i, \":\", dict[i], end = '  ')\n"
   ]
  },
  {
   "cell_type": "code",
   "execution_count": null,
   "id": "311274e9",
   "metadata": {},
   "outputs": [
    {
     "name": "stdout",
     "output_type": "stream",
     "text": [
      "1 red\n",
      "---------------------\n",
      "1 green\n",
      "---------------------\n",
      "1 blue\n",
      "---------------------\n",
      "2 red\n",
      "---------------------\n",
      "2 green\n",
      "---------------------\n",
      "2 blue\n",
      "---------------------\n",
      "3 red\n",
      "---------------------\n",
      "3 green\n",
      "---------------------\n",
      "3 blue\n",
      "---------------------\n"
     ]
    }
   ],
   "source": [
    "lst1 = [1, 2, 3]\n",
    "lst2 = ['red', 'green', 'blue']\n",
    "for i in lst1:\n",
    "    for j in lst2:\n",
    "        print(i, j)\n",
    "        print(\"---------------------\")"
   ]
  },
  {
   "cell_type": "markdown",
   "id": "535ed498",
   "metadata": {},
   "source": [
    "# Break and Continue"
   ]
  },
  {
   "cell_type": "code",
   "execution_count": null,
   "id": "e0f34e09",
   "metadata": {},
   "outputs": [
    {
     "name": "stdout",
     "output_type": "stream",
     "text": [
      "1\n",
      "2\n",
      "3\n",
      "4\n"
     ]
    }
   ],
   "source": [
    "for i in range (1,10):\n",
    "    if i == 5:\n",
    "        break\n",
    "    print(i)"
   ]
  },
  {
   "cell_type": "code",
   "execution_count": null,
   "id": "c5af0c7a",
   "metadata": {},
   "outputs": [
    {
     "name": "stdout",
     "output_type": "stream",
     "text": [
      "1\n",
      "2\n",
      "3\n",
      "4\n",
      "6\n",
      "7\n",
      "8\n",
      "9\n"
     ]
    }
   ],
   "source": [
    "for i in range(1, 10):\n",
    "    if i == 5:\n",
    "        continue\n",
    "    print(i)"
   ]
  },
  {
   "cell_type": "code",
   "execution_count": 18,
   "id": "cd762a7e",
   "metadata": {},
   "outputs": [
    {
     "name": "stdout",
     "output_type": "stream",
     "text": [
      "[1, 4, 9, 16, 25]\n"
     ]
    }
   ],
   "source": [
    "lstt = [1, 2, 3, 4, 5]\n",
    "lsttt = []\n",
    "for i in lstt:\n",
    "   \n",
    "    lsttt.append(i ** 2)\n",
    "print(lsttt)\n"
   ]
  },
  {
   "cell_type": "markdown",
   "id": "10d584d8",
   "metadata": {},
   "source": [
    "# While-Loop"
   ]
  },
  {
   "cell_type": "code",
   "execution_count": 21,
   "id": "97e4aca1",
   "metadata": {},
   "outputs": [
    {
     "name": "stdout",
     "output_type": "stream",
     "text": [
      "1 2 3 4 5 6 7 8 9 10 "
     ]
    }
   ],
   "source": [
    "i = 1\n",
    "while i <= 10:\n",
    "    print(i, end = ' ')\n",
    "    i += 1"
   ]
  },
  {
   "cell_type": "code",
   "execution_count": 22,
   "id": "aee99639",
   "metadata": {},
   "outputs": [
    {
     "name": "stdout",
     "output_type": "stream",
     "text": [
      "10 9 8 7 6 5 4 3 2 1 "
     ]
    }
   ],
   "source": [
    "i = 10\n",
    "while i >= 1:\n",
    "    print(i, end = ' ')\n",
    "    i -= 1"
   ]
  },
  {
   "cell_type": "code",
   "execution_count": 23,
   "id": "ead0f18c",
   "metadata": {},
   "outputs": [
    {
     "name": "stdout",
     "output_type": "stream",
     "text": [
      "1 2 3 4 "
     ]
    }
   ],
   "source": [
    "i = 1\n",
    "while i <= 10:\n",
    "    if i == 5:\n",
    "        break\n",
    "    print(i, end=' ')\n",
    "    i += 1"
   ]
  },
  {
   "cell_type": "code",
   "execution_count": 28,
   "id": "7615d3c5",
   "metadata": {},
   "outputs": [
    {
     "name": "stdout",
     "output_type": "stream",
     "text": [
      "1 2 3 4 6 7 8 9 10 "
     ]
    }
   ],
   "source": [
    "i = 1\n",
    "while i <= 10:\n",
    "    if i == 5:\n",
    "        i += 1\n",
    "        continue\n",
    "    print(i, end=' ')\n",
    "    i += 1"
   ]
  },
  {
   "cell_type": "markdown",
   "id": "2ae43d0d",
   "metadata": {},
   "source": [
    "# Exception - Handling"
   ]
  },
  {
   "cell_type": "code",
   "execution_count": null,
   "id": "7654dd16",
   "metadata": {},
   "outputs": [],
   "source": [
    "# 4 types of block -->  try , except , finally , else\n",
    "# Try block --> Try block is used to test a block of code for errors.\n",
    "# Except block --> Except block is used to handle the error.\n",
    "# Finally block --> Finally block is used to execute the code regardless of the try and except blocks.\n",
    "# else block --> else block is used to execute a block of code if no errors occur."
   ]
  },
  {
   "cell_type": "code",
   "execution_count": 1,
   "id": "9bc4fa3a",
   "metadata": {},
   "outputs": [
    {
     "name": "stdout",
     "output_type": "stream",
     "text": [
      "division by zero\n",
      "finally block executed\n"
     ]
    }
   ],
   "source": [
    "#ZeroDivisionError\n",
    "try:\n",
    "    print(10 / 0)\n",
    "except Exception as e:\n",
    "    print(e)\n",
    "else:\n",
    "    print(\"else block executed\")\n",
    "finally:\n",
    "    print(\"finally block executed\")"
   ]
  },
  {
   "cell_type": "code",
   "execution_count": 6,
   "id": "8916c92f",
   "metadata": {},
   "outputs": [
    {
     "name": "stdout",
     "output_type": "stream",
     "text": [
      "list index out of range\n",
      "Finally block executed\n"
     ]
    }
   ],
   "source": [
    "#indexError\n",
    "try:\n",
    "    lst = [1, 2, 3]\n",
    "    print(lst[3])\n",
    "except Exception as e:\n",
    "    print(e)\n",
    "else:\n",
    "    print(\"Else block executed\")\n",
    "finally:\n",
    "    print(\"Finally block executed\")"
   ]
  },
  {
   "cell_type": "code",
   "execution_count": null,
   "id": "7c4c4a3d",
   "metadata": {},
   "outputs": [],
   "source": []
  }
 ],
 "metadata": {
  "kernelspec": {
   "display_name": "Python 3",
   "language": "python",
   "name": "python3"
  },
  "language_info": {
   "codemirror_mode": {
    "name": "ipython",
    "version": 3
   },
   "file_extension": ".py",
   "mimetype": "text/x-python",
   "name": "python",
   "nbconvert_exporter": "python",
   "pygments_lexer": "ipython3",
   "version": "3.11.9"
  }
 },
 "nbformat": 4,
 "nbformat_minor": 5
}
