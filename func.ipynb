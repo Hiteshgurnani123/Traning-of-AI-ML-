{
 "cells": [
  {
   "cell_type": "markdown",
   "id": "01fe52b9",
   "metadata": {},
   "source": [
    "# Funtions \n"
   ]
  },
  {
   "cell_type": "markdown",
   "id": "3ad7c986",
   "metadata": {},
   "source": [
    "##### Defination --->  Funtion is a block of code that only runs when it is called"
   ]
  },
  {
   "cell_type": "code",
   "execution_count": 1,
   "id": "3b8ea2d3",
   "metadata": {},
   "outputs": [
    {
     "name": "stdout",
     "output_type": "stream",
     "text": [
      "Hello, World!\n"
     ]
    }
   ],
   "source": [
    "# User define function\n",
    "\n",
    "def hello():\n",
    "    print(\"Hello, World!\")\n",
    "\n",
    "# calling the function\n",
    "hello()"
   ]
  },
  {
   "cell_type": "code",
   "execution_count": 4,
   "id": "54042b64",
   "metadata": {},
   "outputs": [
    {
     "name": "stdout",
     "output_type": "stream",
     "text": [
      "68\n"
     ]
    }
   ],
   "source": [
    "def add(a,b):\n",
    "\n",
    "    c = a + b\n",
    "    print(c)\n",
    "# calling the function\n",
    "add(23, 45)"
   ]
  },
  {
   "cell_type": "code",
   "execution_count": 5,
   "id": "a811e24f",
   "metadata": {},
   "outputs": [
    {
     "name": "stdout",
     "output_type": "stream",
     "text": [
      "The youngest child is sita\n"
     ]
    }
   ],
   "source": [
    "# arbitrary arguments\n",
    "def child(*kids):\n",
    "    print(\"The youngest child is \" + kids[1])\n",
    "\n",
    "child('mohan', 'sita', 'ram')"
   ]
  },
  {
   "cell_type": "code",
   "execution_count": 7,
   "id": "21cedc71",
   "metadata": {},
   "outputs": [
    {
     "name": "stdout",
     "output_type": "stream",
     "text": [
      "The youngest child is sita\n"
     ]
    }
   ],
   "source": [
    "# Keyword arguments\n",
    "def child(child1, child2, child3):\n",
    "    print(\"The youngest child is \" + child2)    \n",
    "\n",
    "child(child1 = \"mohan\", child2 = \"sita\", child3 = \"ram\")"
   ]
  },
  {
   "cell_type": "code",
   "execution_count": 8,
   "id": "67e0288e",
   "metadata": {},
   "outputs": [
    {
     "name": "stdout",
     "output_type": "stream",
     "text": [
      "The youngest child is sita\n"
     ]
    }
   ],
   "source": [
    "# arbitrary-keyword arguments\n",
    "def child(**kids):\n",
    "    print(\"The youngest child is \" + kids[\"child2\"])\n",
    "\n",
    "child(child1 = \"mohan\", child2 = \"sita\", child3 = \"ram\")\n"
   ]
  },
  {
   "cell_type": "code",
   "execution_count": 1,
   "id": "a35687aa",
   "metadata": {},
   "outputs": [
    {
     "name": "stdout",
     "output_type": "stream",
     "text": [
      "I am from Sweden\n",
      "I am from India\n",
      "I am from Norway\n",
      "I am from USA\n"
     ]
    }
   ],
   "source": [
    "# Default parameter value\n",
    "def my_country(country = \"Norway\"):\n",
    "    print(\"I am from \" + country)\n",
    "\n",
    "my_country(\"Sweden\")\n",
    "my_country(\"India\")\n",
    "my_country()\n",
    "my_country(\"USA\")\n",
    "    "
   ]
  },
  {
   "cell_type": "code",
   "execution_count": 3,
   "id": "e24befd9",
   "metadata": {},
   "outputs": [
    {
     "name": "stdout",
     "output_type": "stream",
     "text": [
      "apple\n",
      "banana\n",
      "cherry\n"
     ]
    }
   ],
   "source": [
    "# passing list as a argument\n",
    "def list(food):\n",
    "    for x in food:\n",
    "        print(x)\n",
    "\n",
    "fruits = [\"apple\", \"banana\", \"cherry\"]\n",
    "\n",
    "list(fruits)"
   ]
  },
  {
   "cell_type": "code",
   "execution_count": 2,
   "id": "d9c56258",
   "metadata": {},
   "outputs": [
    {
     "name": "stdout",
     "output_type": "stream",
     "text": [
      "30.0\n"
     ]
    }
   ],
   "source": [
    "def avg(num):\n",
    "    print(sum(num) / len(num))\n",
    "\n",
    "avg([10,20,30,40,50])"
   ]
  },
  {
   "cell_type": "markdown",
   "id": "05272e15",
   "metadata": {},
   "source": [
    "# List Comprehension"
   ]
  },
  {
   "cell_type": "code",
   "execution_count": 4,
   "id": "d5d50757",
   "metadata": {},
   "outputs": [
    {
     "name": "stdout",
     "output_type": "stream",
     "text": [
      "['RED', 'BLUE', 'GREEN', 'YELLOW', 'ORANGE']\n"
     ]
    }
   ],
   "source": [
    "lst = [\"red\", \"blue\", \"green\", \"yellow\", \"orange\"]\n",
    "new_lst = [i.upper() for i in lst]\n",
    "print(new_lst)"
   ]
  },
  {
   "cell_type": "code",
   "execution_count": 5,
   "id": "c6525b39",
   "metadata": {},
   "outputs": [
    {
     "name": "stdout",
     "output_type": "stream",
     "text": [
      "[1, 4, 9, 16, 25, 36, 49, 64, 81]\n"
     ]
    }
   ],
   "source": [
    "list = [1,2,3,4,5,6,7,8,9]\n",
    "new_list = [i**2 for i in list]\n",
    "print(new_list)"
   ]
  },
  {
   "cell_type": "code",
   "execution_count": null,
   "id": "6e47b595",
   "metadata": {},
   "outputs": [],
   "source": []
  }
 ],
 "metadata": {
  "kernelspec": {
   "display_name": "Python 3",
   "language": "python",
   "name": "python3"
  },
  "language_info": {
   "codemirror_mode": {
    "name": "ipython",
    "version": 3
   },
   "file_extension": ".py",
   "mimetype": "text/x-python",
   "name": "python",
   "nbconvert_exporter": "python",
   "pygments_lexer": "ipython3",
   "version": "3.11.9"
  }
 },
 "nbformat": 4,
 "nbformat_minor": 5
}
