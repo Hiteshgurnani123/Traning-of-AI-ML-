{
 "cells": [
  {
   "cell_type": "markdown",
   "id": "3e1aac9f",
   "metadata": {},
   "source": [
    "# RNN"
   ]
  },
  {
   "cell_type": "code",
   "execution_count": null,
   "id": "e350c633",
   "metadata": {},
   "outputs": [],
   "source": []
  },
  {
   "cell_type": "code",
   "execution_count": null,
   "id": "e3f19f2c",
   "metadata": {},
   "outputs": [],
   "source": []
  },
  {
   "cell_type": "markdown",
   "id": "fafdf1bf",
   "metadata": {},
   "source": [
    "RNN --> this takes sequential data  --> order important\n",
    "                                    --> semantic meaning understand better than ANN"
   ]
  },
  {
   "cell_type": "markdown",
   "id": "f3b86d0f",
   "metadata": {},
   "source": [
    "types -->\n",
    "1. simple Rnn --> vanilla rnn\n",
    "2. LSTM (long short term memory)\n",
    "3. bidirectional Rnn\n",
    "4. GRU (gated recurrent unit)\n",
    "5. encoder and decoder\n",
    "6. transformer (most important used in chatbots like chatgpt,gemini)\n",
    "7. self"
   ]
  },
  {
   "cell_type": "markdown",
   "id": "f44779c6",
   "metadata": {},
   "source": [
    "GeneratorAI --> LLm, multimodel\n",
    "simple RNN --> LSTM / GRU rnn --> Bidirectional Rnn --> encoder/decoder --> self  --> transformers"
   ]
  },
  {
   "cell_type": "markdown",
   "id": "6268071f",
   "metadata": {},
   "source": []
  }
 ],
 "metadata": {
  "kernelspec": {
   "display_name": "Python 3",
   "language": "python",
   "name": "python3"
  },
  "language_info": {
   "name": "python",
   "version": "3.11.9"
  }
 },
 "nbformat": 4,
 "nbformat_minor": 5
}
